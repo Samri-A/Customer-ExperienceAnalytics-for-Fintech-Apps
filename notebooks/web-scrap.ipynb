{
 "cells": [
  {
   "cell_type": "code",
   "execution_count": null,
   "metadata": {
    "_cell_guid": "b1076dfc-b9ad-4769-8c92-a6c4dae69d19",
    "_uuid": "8f2839f25d086af736a60e9eeb907d3b93b6e0e5",
    "execution": {
     "iopub.execute_input": "2025-06-20T14:08:09.154754Z",
     "iopub.status.busy": "2025-06-20T14:08:09.153047Z",
     "iopub.status.idle": "2025-06-20T14:08:12.915439Z",
     "shell.execute_reply": "2025-06-20T14:08:12.914083Z",
     "shell.execute_reply.started": "2025-06-20T14:08:09.154707Z"
    },
    "trusted": true
   },
   "outputs": [
    {
     "name": "stdout",
     "output_type": "stream",
     "text": [
      "Requirement already satisfied: google_play_scraper in /usr/local/lib/python3.11/dist-packages (1.2.7)\n"
     ]
    }
   ],
   "source": [
    "import sys\n",
    "sys.path.append('../scripts')\n",
    "from scripts.preprocess import preprocess\n",
    "from scripts.scrap import playstore_Review_scraping"
   ]
  },
  {
   "cell_type": "code",
   "execution_count": 4,
   "metadata": {
    "execution": {
     "iopub.execute_input": "2025-06-20T14:08:12.918092Z",
     "iopub.status.busy": "2025-06-20T14:08:12.917755Z",
     "iopub.status.idle": "2025-06-20T14:08:12.924573Z",
     "shell.execute_reply": "2025-06-20T14:08:12.923530Z",
     "shell.execute_reply.started": "2025-06-20T14:08:12.918058Z"
    },
    "trusted": true
   },
   "outputs": [],
   "source": [
    "from google_play_scraper import app , Sort , reviews_all\n",
    "import numpy as np\n",
    "import pandas as pd\n",
    "import json , os "
   ]
  },
  {
   "cell_type": "markdown",
   "metadata": {},
   "source": [
    "* Scrap review data from playstore"
   ]
  },
  {
   "cell_type": "code",
   "execution_count": 6,
   "metadata": {
    "execution": {
     "iopub.execute_input": "2025-06-20T14:08:12.948767Z",
     "iopub.status.busy": "2025-06-20T14:08:12.948461Z",
     "iopub.status.idle": "2025-06-20T14:08:13.342073Z",
     "shell.execute_reply": "2025-06-20T14:08:13.340875Z",
     "shell.execute_reply.started": "2025-06-20T14:08:12.948741Z"
    },
    "trusted": true
   },
   "outputs": [
    {
     "name": "stdout",
     "output_type": "stream",
     "text": [
      "<class 'pandas.core.frame.DataFrame'>\n",
      "RangeIndex: 495 entries, 0 to 494\n",
      "Data columns (total 11 columns):\n",
      " #   Column                Non-Null Count  Dtype         \n",
      "---  ------                --------------  -----         \n",
      " 0   reviewId              495 non-null    object        \n",
      " 1   userName              495 non-null    object        \n",
      " 2   userImage             495 non-null    object        \n",
      " 3   content               495 non-null    object        \n",
      " 4   score                 495 non-null    int64         \n",
      " 5   thumbsUpCount         495 non-null    int64         \n",
      " 6   reviewCreatedVersion  370 non-null    object        \n",
      " 7   at                    495 non-null    datetime64[ns]\n",
      " 8   replyContent          1 non-null      object        \n",
      " 9   repliedAt             1 non-null      datetime64[ns]\n",
      " 10  appVersion            370 non-null    object        \n",
      "dtypes: datetime64[ns](2), int64(2), object(7)\n",
      "memory usage: 42.7+ KB\n"
     ]
    }
   ],
   "source": [
    "dashen_id = \"com.cr2.amolelight\"\n",
    "dashen_df = playstore_Review_scraping(dashen_id)\n",
    "dashen_df.info()"
   ]
  },
  {
   "cell_type": "code",
   "execution_count": 7,
   "metadata": {
    "execution": {
     "iopub.execute_input": "2025-06-20T14:08:13.345091Z",
     "iopub.status.busy": "2025-06-20T14:08:13.344783Z",
     "iopub.status.idle": "2025-06-20T14:08:17.335464Z",
     "shell.execute_reply": "2025-06-20T14:08:17.334371Z",
     "shell.execute_reply.started": "2025-06-20T14:08:13.345064Z"
    },
    "trusted": true
   },
   "outputs": [],
   "source": [
    "CBE_id= \"com.combanketh.mobilebanking\"\n",
    "CBE_df = playstore_Review_scraping(CBE_id)"
   ]
  },
  {
   "cell_type": "code",
   "execution_count": 8,
   "metadata": {
    "execution": {
     "iopub.execute_input": "2025-06-20T14:08:17.336917Z",
     "iopub.status.busy": "2025-06-20T14:08:17.336579Z",
     "iopub.status.idle": "2025-06-20T14:08:18.086664Z",
     "shell.execute_reply": "2025-06-20T14:08:18.085660Z",
     "shell.execute_reply.started": "2025-06-20T14:08:17.336885Z"
    },
    "trusted": true
   },
   "outputs": [],
   "source": [
    "BOA_id = \"com.boa.boaMobileBanking\"\n",
    "BOA_df = playstore_Review_scraping(BOA_id)"
   ]
  },
  {
   "cell_type": "markdown",
   "metadata": {},
   "source": [
    "* Preprocess the scaped data to extract key information"
   ]
  },
  {
   "cell_type": "code",
   "execution_count": 10,
   "metadata": {
    "execution": {
     "iopub.execute_input": "2025-06-20T14:08:18.095800Z",
     "iopub.status.busy": "2025-06-20T14:08:18.095514Z",
     "iopub.status.idle": "2025-06-20T14:08:18.122587Z",
     "shell.execute_reply": "2025-06-20T14:08:18.121336Z",
     "shell.execute_reply.started": "2025-06-20T14:08:18.095779Z"
    },
    "trusted": true
   },
   "outputs": [],
   "source": [
    "dashen_df = preprocess(dashen_df , \"Dashen\")"
   ]
  },
  {
   "cell_type": "code",
   "execution_count": 11,
   "metadata": {
    "execution": {
     "iopub.execute_input": "2025-06-20T14:08:18.124094Z",
     "iopub.status.busy": "2025-06-20T14:08:18.123788Z",
     "iopub.status.idle": "2025-06-20T14:08:18.151828Z",
     "shell.execute_reply": "2025-06-20T14:08:18.150863Z",
     "shell.execute_reply.started": "2025-06-20T14:08:18.124071Z"
    },
    "trusted": true
   },
   "outputs": [
    {
     "data": {
      "text/html": [
       "<div>\n",
       "<style scoped>\n",
       "    .dataframe tbody tr th:only-of-type {\n",
       "        vertical-align: middle;\n",
       "    }\n",
       "\n",
       "    .dataframe tbody tr th {\n",
       "        vertical-align: top;\n",
       "    }\n",
       "\n",
       "    .dataframe thead th {\n",
       "        text-align: right;\n",
       "    }\n",
       "</style>\n",
       "<table border=\"1\" class=\"dataframe\">\n",
       "  <thead>\n",
       "    <tr style=\"text-align: right;\">\n",
       "      <th></th>\n",
       "      <th>source_id</th>\n",
       "      <th>review</th>\n",
       "      <th>rating</th>\n",
       "      <th>date</th>\n",
       "      <th>bank</th>\n",
       "    </tr>\n",
       "  </thead>\n",
       "  <tbody>\n",
       "    <tr>\n",
       "      <th>0</th>\n",
       "      <td>c21fd40d-ce86-4751-b9f4-074c9c1f1536</td>\n",
       "      <td>The app suddenly stops</td>\n",
       "      <td>1</td>\n",
       "      <td>2025-06-12</td>\n",
       "      <td>Dashen</td>\n",
       "    </tr>\n",
       "    <tr>\n",
       "      <th>1</th>\n",
       "      <td>7a02a486-c603-4d1a-be07-7f6aafd5fe50</td>\n",
       "      <td>nice app</td>\n",
       "      <td>4</td>\n",
       "      <td>2025-06-12</td>\n",
       "      <td>Dashen</td>\n",
       "    </tr>\n",
       "    <tr>\n",
       "      <th>2</th>\n",
       "      <td>999f4934-5faf-4d95-af1e-8e8a9c4aee20</td>\n",
       "      <td>it is even super than super app</td>\n",
       "      <td>5</td>\n",
       "      <td>2025-06-12</td>\n",
       "      <td>Dashen</td>\n",
       "    </tr>\n",
       "    <tr>\n",
       "      <th>3</th>\n",
       "      <td>3ac077d1-44a2-4046-80a6-ae595914cf1e</td>\n",
       "      <td>It would be more helpful if a/c no used for tr...</td>\n",
       "      <td>4</td>\n",
       "      <td>2025-06-10</td>\n",
       "      <td>Dashen</td>\n",
       "    </tr>\n",
       "    <tr>\n",
       "      <th>4</th>\n",
       "      <td>1d310a79-83e3-4fd1-bd03-ffd2172b5be7</td>\n",
       "      <td>truly one step ahead</td>\n",
       "      <td>4</td>\n",
       "      <td>2025-06-09</td>\n",
       "      <td>Dashen</td>\n",
       "    </tr>\n",
       "    <tr>\n",
       "      <th>5</th>\n",
       "      <td>2b25348c-1a20-482c-814e-648572cf6dd9</td>\n",
       "      <td>best</td>\n",
       "      <td>5</td>\n",
       "      <td>2025-06-05</td>\n",
       "      <td>Dashen</td>\n",
       "    </tr>\n",
       "    <tr>\n",
       "      <th>6</th>\n",
       "      <td>21595904-0dbf-4eb3-bb27-98f67bd618ab</td>\n",
       "      <td>nice application</td>\n",
       "      <td>4</td>\n",
       "      <td>2025-05-27</td>\n",
       "      <td>Dashen</td>\n",
       "    </tr>\n",
       "    <tr>\n",
       "      <th>7</th>\n",
       "      <td>b925631c-a63d-48d9-9852-68aed0898c12</td>\n",
       "      <td>best</td>\n",
       "      <td>5</td>\n",
       "      <td>2025-05-22</td>\n",
       "      <td>Dashen</td>\n",
       "    </tr>\n",
       "    <tr>\n",
       "      <th>8</th>\n",
       "      <td>e0f868ee-be62-4ad5-8976-c5e3ee6f1cd9</td>\n",
       "      <td>bast smart bank sistem dashen amole dashen bamk</td>\n",
       "      <td>5</td>\n",
       "      <td>2025-05-17</td>\n",
       "      <td>Dashen</td>\n",
       "    </tr>\n",
       "    <tr>\n",
       "      <th>9</th>\n",
       "      <td>b7d8df4f-45dc-44a1-ac3d-85d46177e7b8</td>\n",
       "      <td>best app</td>\n",
       "      <td>5</td>\n",
       "      <td>2025-05-16</td>\n",
       "      <td>Dashen</td>\n",
       "    </tr>\n",
       "  </tbody>\n",
       "</table>\n",
       "</div>"
      ],
      "text/plain": [
       "                              source_id  \\\n",
       "0  c21fd40d-ce86-4751-b9f4-074c9c1f1536   \n",
       "1  7a02a486-c603-4d1a-be07-7f6aafd5fe50   \n",
       "2  999f4934-5faf-4d95-af1e-8e8a9c4aee20   \n",
       "3  3ac077d1-44a2-4046-80a6-ae595914cf1e   \n",
       "4  1d310a79-83e3-4fd1-bd03-ffd2172b5be7   \n",
       "5  2b25348c-1a20-482c-814e-648572cf6dd9   \n",
       "6  21595904-0dbf-4eb3-bb27-98f67bd618ab   \n",
       "7  b925631c-a63d-48d9-9852-68aed0898c12   \n",
       "8  e0f868ee-be62-4ad5-8976-c5e3ee6f1cd9   \n",
       "9  b7d8df4f-45dc-44a1-ac3d-85d46177e7b8   \n",
       "\n",
       "                                              review  rating       date  \\\n",
       "0                             The app suddenly stops       1 2025-06-12   \n",
       "1                                           nice app       4 2025-06-12   \n",
       "2                    it is even super than super app       5 2025-06-12   \n",
       "3  It would be more helpful if a/c no used for tr...       4 2025-06-10   \n",
       "4                               truly one step ahead       4 2025-06-09   \n",
       "5                                               best       5 2025-06-05   \n",
       "6                                   nice application       4 2025-05-27   \n",
       "7                                               best       5 2025-05-22   \n",
       "8    bast smart bank sistem dashen amole dashen bamk       5 2025-05-17   \n",
       "9                                           best app       5 2025-05-16   \n",
       "\n",
       "     bank  \n",
       "0  Dashen  \n",
       "1  Dashen  \n",
       "2  Dashen  \n",
       "3  Dashen  \n",
       "4  Dashen  \n",
       "5  Dashen  \n",
       "6  Dashen  \n",
       "7  Dashen  \n",
       "8  Dashen  \n",
       "9  Dashen  "
      ]
     },
     "execution_count": 11,
     "metadata": {},
     "output_type": "execute_result"
    }
   ],
   "source": [
    "dashen_df.head(10)"
   ]
  },
  {
   "cell_type": "code",
   "execution_count": 12,
   "metadata": {
    "execution": {
     "iopub.execute_input": "2025-06-20T14:08:18.152930Z",
     "iopub.status.busy": "2025-06-20T14:08:18.152716Z",
     "iopub.status.idle": "2025-06-20T14:08:18.176997Z",
     "shell.execute_reply": "2025-06-20T14:08:18.175615Z",
     "shell.execute_reply.started": "2025-06-20T14:08:18.152912Z"
    },
    "trusted": true
   },
   "outputs": [],
   "source": [
    "CBE_df = preprocess(CBE_df , \"CBE\")"
   ]
  },
  {
   "cell_type": "code",
   "execution_count": 13,
   "metadata": {
    "execution": {
     "iopub.execute_input": "2025-06-20T14:08:18.178358Z",
     "iopub.status.busy": "2025-06-20T14:08:18.178069Z",
     "iopub.status.idle": "2025-06-20T14:08:18.190969Z",
     "shell.execute_reply": "2025-06-20T14:08:18.189967Z",
     "shell.execute_reply.started": "2025-06-20T14:08:18.178338Z"
    },
    "trusted": true
   },
   "outputs": [
    {
     "name": "stdout",
     "output_type": "stream",
     "text": [
      "<class 'pandas.core.frame.DataFrame'>\n",
      "Index: 400 entries, 0 to 399\n",
      "Data columns (total 5 columns):\n",
      " #   Column     Non-Null Count  Dtype         \n",
      "---  ------     --------------  -----         \n",
      " 0   source_id  400 non-null    object        \n",
      " 1   review     400 non-null    object        \n",
      " 2   rating     400 non-null    int64         \n",
      " 3   date       400 non-null    datetime64[ns]\n",
      " 4   bank       400 non-null    object        \n",
      "dtypes: datetime64[ns](1), int64(1), object(3)\n",
      "memory usage: 18.8+ KB\n"
     ]
    }
   ],
   "source": [
    "CBE_df.info()"
   ]
  },
  {
   "cell_type": "code",
   "execution_count": 14,
   "metadata": {
    "execution": {
     "iopub.execute_input": "2025-06-20T14:08:18.192212Z",
     "iopub.status.busy": "2025-06-20T14:08:18.191934Z",
     "iopub.status.idle": "2025-06-20T14:08:18.212461Z",
     "shell.execute_reply": "2025-06-20T14:08:18.211496Z",
     "shell.execute_reply.started": "2025-06-20T14:08:18.192192Z"
    },
    "trusted": true
   },
   "outputs": [],
   "source": [
    "BOA_df = preprocess(BOA_df , \"BOA\")"
   ]
  },
  {
   "cell_type": "code",
   "execution_count": 15,
   "metadata": {
    "execution": {
     "iopub.execute_input": "2025-06-20T14:08:18.213835Z",
     "iopub.status.busy": "2025-06-20T14:08:18.213562Z",
     "iopub.status.idle": "2025-06-20T14:08:18.229169Z",
     "shell.execute_reply": "2025-06-20T14:08:18.228103Z",
     "shell.execute_reply.started": "2025-06-20T14:08:18.213816Z"
    },
    "trusted": true
   },
   "outputs": [
    {
     "data": {
      "text/html": [
       "<div>\n",
       "<style scoped>\n",
       "    .dataframe tbody tr th:only-of-type {\n",
       "        vertical-align: middle;\n",
       "    }\n",
       "\n",
       "    .dataframe tbody tr th {\n",
       "        vertical-align: top;\n",
       "    }\n",
       "\n",
       "    .dataframe thead th {\n",
       "        text-align: right;\n",
       "    }\n",
       "</style>\n",
       "<table border=\"1\" class=\"dataframe\">\n",
       "  <thead>\n",
       "    <tr style=\"text-align: right;\">\n",
       "      <th></th>\n",
       "      <th>source_id</th>\n",
       "      <th>review</th>\n",
       "      <th>rating</th>\n",
       "      <th>date</th>\n",
       "      <th>bank</th>\n",
       "    </tr>\n",
       "  </thead>\n",
       "  <tbody>\n",
       "    <tr>\n",
       "      <th>0</th>\n",
       "      <td>2da4265c-ec1c-4460-a1d2-5e23b5539034</td>\n",
       "      <td>Excellent application</td>\n",
       "      <td>5</td>\n",
       "      <td>2025-06-18</td>\n",
       "      <td>BOA</td>\n",
       "    </tr>\n",
       "    <tr>\n",
       "      <th>1</th>\n",
       "      <td>effbeeb2-b89d-43e6-96b0-8e1a78c1175a</td>\n",
       "      <td>its very bad app its very slow</td>\n",
       "      <td>1</td>\n",
       "      <td>2025-06-17</td>\n",
       "      <td>BOA</td>\n",
       "    </tr>\n",
       "    <tr>\n",
       "      <th>2</th>\n",
       "      <td>9d73d4fd-005a-4232-a1b3-ff967998969e</td>\n",
       "      <td>ብዙዬ ሺዋየ በለጠ</td>\n",
       "      <td>1</td>\n",
       "      <td>2025-06-15</td>\n",
       "      <td>BOA</td>\n",
       "    </tr>\n",
       "    <tr>\n",
       "      <th>3</th>\n",
       "      <td>c2655979-af64-4649-aa42-af100716ede0</td>\n",
       "      <td>good</td>\n",
       "      <td>1</td>\n",
       "      <td>2025-06-15</td>\n",
       "      <td>BOA</td>\n",
       "    </tr>\n",
       "    <tr>\n",
       "      <th>4</th>\n",
       "      <td>ec30627f-c9a0-48f6-8fd2-38fcae3ab112</td>\n",
       "      <td>as bank, u should at least hire someone good a...</td>\n",
       "      <td>1</td>\n",
       "      <td>2025-06-15</td>\n",
       "      <td>BOA</td>\n",
       "    </tr>\n",
       "  </tbody>\n",
       "</table>\n",
       "</div>"
      ],
      "text/plain": [
       "                              source_id  \\\n",
       "0  2da4265c-ec1c-4460-a1d2-5e23b5539034   \n",
       "1  effbeeb2-b89d-43e6-96b0-8e1a78c1175a   \n",
       "2  9d73d4fd-005a-4232-a1b3-ff967998969e   \n",
       "3  c2655979-af64-4649-aa42-af100716ede0   \n",
       "4  ec30627f-c9a0-48f6-8fd2-38fcae3ab112   \n",
       "\n",
       "                                              review  rating       date bank  \n",
       "0                              Excellent application       5 2025-06-18  BOA  \n",
       "1                     its very bad app its very slow       1 2025-06-17  BOA  \n",
       "2                                        ብዙዬ ሺዋየ በለጠ       1 2025-06-15  BOA  \n",
       "3                                               good       1 2025-06-15  BOA  \n",
       "4  as bank, u should at least hire someone good a...       1 2025-06-15  BOA  "
      ]
     },
     "execution_count": 15,
     "metadata": {},
     "output_type": "execute_result"
    }
   ],
   "source": [
    "BOA_df.head()"
   ]
  },
  {
   "cell_type": "code",
   "execution_count": 16,
   "metadata": {
    "execution": {
     "iopub.execute_input": "2025-06-20T14:08:18.232443Z",
     "iopub.status.busy": "2025-06-20T14:08:18.232109Z",
     "iopub.status.idle": "2025-06-20T14:08:18.247214Z",
     "shell.execute_reply": "2025-06-20T14:08:18.246149Z",
     "shell.execute_reply.started": "2025-06-20T14:08:18.232421Z"
    },
    "trusted": true
   },
   "outputs": [],
   "source": [
    "all_review_df = pd.concat([CBE_df , BOA_df , dashen_df])"
   ]
  },
  {
   "cell_type": "code",
   "execution_count": null,
   "metadata": {
    "execution": {
     "iopub.execute_input": "2025-06-20T14:08:18.248577Z",
     "iopub.status.busy": "2025-06-20T14:08:18.248220Z",
     "iopub.status.idle": "2025-06-20T14:08:18.280673Z",
     "shell.execute_reply": "2025-06-20T14:08:18.279658Z",
     "shell.execute_reply.started": "2025-06-20T14:08:18.248545Z"
    },
    "trusted": true
   },
   "outputs": [],
   "source": [
    "all_review_df.to_csv(\"src/data/raw_review.csv\" , index=False)"
   ]
  }
 ],
 "metadata": {
  "kaggle": {
   "accelerator": "none",
   "dataSources": [],
   "dockerImageVersionId": 31040,
   "isGpuEnabled": false,
   "isInternetEnabled": true,
   "language": "python",
   "sourceType": "notebook"
  },
  "kernelspec": {
   "display_name": "Python 3",
   "language": "python",
   "name": "python3"
  },
  "language_info": {
   "codemirror_mode": {
    "name": "ipython",
    "version": 3
   },
   "file_extension": ".py",
   "mimetype": "text/x-python",
   "name": "python",
   "nbconvert_exporter": "python",
   "pygments_lexer": "ipython3",
   "version": "3.11.11"
  }
 },
 "nbformat": 4,
 "nbformat_minor": 4
}
